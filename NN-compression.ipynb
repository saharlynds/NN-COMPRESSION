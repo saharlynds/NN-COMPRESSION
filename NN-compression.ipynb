{
  "nbformat": 4,
  "nbformat_minor": 0,
  "metadata": {
    "colab": {
      "provenance": []
    },
    "kernelspec": {
      "name": "python3",
      "display_name": "Python 3"
    },
    "language_info": {
      "name": "python"
    }
  },
  "cells": [
    {
      "cell_type": "code",
      "execution_count": 132,
      "metadata": {
        "id": "BvH8Q8CvFpHy"
      },
      "outputs": [],
      "source": [
        "import tensorflow as tf\n",
        "from tensorflow.keras.layers import Dense, Flatten, Input\n",
        "from tensorflow.keras.models import Sequential, load_model, clone_model, Model\n",
        "from tensorflow.keras.datasets import fashion_mnist\n",
        "from sklearn.model_selection import train_test_split\n",
        "from sklearn.metrics import auc\n",
        "from sklearn.cluster import KMeans\n",
        "import matplotlib.pyplot as plt\n",
        "import numpy as np"
      ]
    },
    {
      "cell_type": "code",
      "source": [
        "# Load the Fashion MNIST dataset\n",
        "(train_images, train_labels), (test_images, test_labels) = fashion_mnist.load_data()\n",
        "\n",
        "# Normalize the images to [0, 1] range\n",
        "train_images = train_images / 255.0\n",
        "test_images = test_images / 255.0\n",
        "\n",
        "train_images, val_images, train_labels, val_labels = train_test_split(\n",
        "    train_images, train_labels, test_size=500, random_state=42)"
      ],
      "metadata": {
        "id": "0nJtqvToHS8O"
      },
      "execution_count": 23,
      "outputs": []
    },
    {
      "cell_type": "code",
      "source": [
        "print(\"train size:\", len(train_labels))\n",
        "print(\"validation size:\", len(val_labels))\n",
        "print(\"test size:\", len(test_labels))"
      ],
      "metadata": {
        "colab": {
          "base_uri": "https://localhost:8080/"
        },
        "id": "7ZS7s09Tc4YU",
        "outputId": "f2f0e15e-3c44-4acc-f0bb-f3128a6f8485"
      },
      "execution_count": 24,
      "outputs": [
        {
          "output_type": "stream",
          "name": "stdout",
          "text": [
            "train size: 59500\n",
            "validation size: 500\n",
            "test size: 10000\n"
          ]
        }
      ]
    },
    {
      "cell_type": "code",
      "source": [
        "# Build the MLP model\n",
        "model = Sequential([\n",
        "    Flatten(input_shape=(28, 28)),  # Flatten the input images\n",
        "    Dense(512, activation='LeakyReLU'),\n",
        "    Dense(256, activation='LeakyReLU'),\n",
        "    Dense(10, activation='softmax')  # Output layer with 10 neurons (one for each class) and softmax activation\n",
        "])\n",
        "\n",
        "# Compile the model\n",
        "model.compile(optimizer='adam',\n",
        "              loss='sparse_categorical_crossentropy',\n",
        "              metrics=['accuracy'])\n",
        "\n",
        "model.summary()"
      ],
      "metadata": {
        "colab": {
          "base_uri": "https://localhost:8080/"
        },
        "id": "GqxNwC1nHUSQ",
        "outputId": "75e575f5-6f56-48cc-e58c-ac4c98fb0a3a"
      },
      "execution_count": 28,
      "outputs": [
        {
          "output_type": "stream",
          "name": "stdout",
          "text": [
            "Model: \"sequential_3\"\n",
            "_________________________________________________________________\n",
            " Layer (type)                Output Shape              Param #   \n",
            "=================================================================\n",
            " flatten_3 (Flatten)         (None, 784)               0         \n",
            "                                                                 \n",
            " dense_9 (Dense)             (None, 512)               401920    \n",
            "                                                                 \n",
            " dense_10 (Dense)            (None, 256)               131328    \n",
            "                                                                 \n",
            " dense_11 (Dense)            (None, 10)                2570      \n",
            "                                                                 \n",
            "=================================================================\n",
            "Total params: 535818 (2.04 MB)\n",
            "Trainable params: 535818 (2.04 MB)\n",
            "Non-trainable params: 0 (0.00 Byte)\n",
            "_________________________________________________________________\n"
          ]
        }
      ]
    },
    {
      "cell_type": "code",
      "source": [
        "# Train the model\n",
        "history = model.fit(\n",
        "    train_images,\n",
        "    train_labels,\n",
        "    epochs=50,\n",
        "    validation_data=(val_images, val_labels)\n",
        ")"
      ],
      "metadata": {
        "colab": {
          "base_uri": "https://localhost:8080/"
        },
        "id": "0vQZ3yKzHYgp",
        "outputId": "4f859a07-fcb8-4be1-e96a-81a2d865b34c"
      },
      "execution_count": 29,
      "outputs": [
        {
          "output_type": "stream",
          "name": "stdout",
          "text": [
            "Epoch 1/50\n",
            "1860/1860 [==============================] - 8s 4ms/step - loss: 0.4916 - accuracy: 0.8217 - val_loss: 0.4021 - val_accuracy: 0.8600\n",
            "Epoch 2/50\n",
            "1860/1860 [==============================] - 9s 5ms/step - loss: 0.3894 - accuracy: 0.8590 - val_loss: 0.4337 - val_accuracy: 0.8360\n",
            "Epoch 3/50\n",
            "1860/1860 [==============================] - 8s 4ms/step - loss: 0.3610 - accuracy: 0.8673 - val_loss: 0.3355 - val_accuracy: 0.8880\n",
            "Epoch 4/50\n",
            "1860/1860 [==============================] - 8s 4ms/step - loss: 0.3374 - accuracy: 0.8747 - val_loss: 0.3630 - val_accuracy: 0.8600\n",
            "Epoch 5/50\n",
            "1860/1860 [==============================] - 7s 4ms/step - loss: 0.3202 - accuracy: 0.8823 - val_loss: 0.3392 - val_accuracy: 0.8940\n",
            "Epoch 6/50\n",
            "1860/1860 [==============================] - 8s 4ms/step - loss: 0.3109 - accuracy: 0.8856 - val_loss: 0.3474 - val_accuracy: 0.8920\n",
            "Epoch 7/50\n",
            "1860/1860 [==============================] - 8s 4ms/step - loss: 0.2972 - accuracy: 0.8905 - val_loss: 0.3232 - val_accuracy: 0.8780\n",
            "Epoch 8/50\n",
            "1860/1860 [==============================] - 8s 4ms/step - loss: 0.2888 - accuracy: 0.8925 - val_loss: 0.3470 - val_accuracy: 0.8900\n",
            "Epoch 9/50\n",
            "1860/1860 [==============================] - 9s 5ms/step - loss: 0.2779 - accuracy: 0.8970 - val_loss: 0.3523 - val_accuracy: 0.8820\n",
            "Epoch 10/50\n",
            "1860/1860 [==============================] - 9s 5ms/step - loss: 0.2729 - accuracy: 0.8989 - val_loss: 0.3792 - val_accuracy: 0.8840\n",
            "Epoch 11/50\n",
            "1860/1860 [==============================] - 12s 6ms/step - loss: 0.2629 - accuracy: 0.9006 - val_loss: 0.3609 - val_accuracy: 0.8900\n",
            "Epoch 12/50\n",
            "1860/1860 [==============================] - 7s 4ms/step - loss: 0.2594 - accuracy: 0.9039 - val_loss: 0.2965 - val_accuracy: 0.8880\n",
            "Epoch 13/50\n",
            "1860/1860 [==============================] - 8s 4ms/step - loss: 0.2521 - accuracy: 0.9065 - val_loss: 0.3244 - val_accuracy: 0.8940\n",
            "Epoch 14/50\n",
            "1860/1860 [==============================] - 8s 4ms/step - loss: 0.2454 - accuracy: 0.9084 - val_loss: 0.3174 - val_accuracy: 0.8900\n",
            "Epoch 15/50\n",
            "1860/1860 [==============================] - 8s 4ms/step - loss: 0.2399 - accuracy: 0.9109 - val_loss: 0.3167 - val_accuracy: 0.9020\n",
            "Epoch 16/50\n",
            "1860/1860 [==============================] - 8s 4ms/step - loss: 0.2382 - accuracy: 0.9112 - val_loss: 0.4283 - val_accuracy: 0.8720\n",
            "Epoch 17/50\n",
            "1860/1860 [==============================] - 8s 4ms/step - loss: 0.2289 - accuracy: 0.9143 - val_loss: 0.3201 - val_accuracy: 0.9000\n",
            "Epoch 18/50\n",
            "1860/1860 [==============================] - 8s 4ms/step - loss: 0.2246 - accuracy: 0.9148 - val_loss: 0.3623 - val_accuracy: 0.8840\n",
            "Epoch 19/50\n",
            "1860/1860 [==============================] - 8s 4ms/step - loss: 0.2236 - accuracy: 0.9166 - val_loss: 0.3816 - val_accuracy: 0.8860\n",
            "Epoch 20/50\n",
            "1860/1860 [==============================] - 8s 4ms/step - loss: 0.2234 - accuracy: 0.9166 - val_loss: 0.3468 - val_accuracy: 0.8880\n",
            "Epoch 21/50\n",
            "1860/1860 [==============================] - 8s 5ms/step - loss: 0.2124 - accuracy: 0.9204 - val_loss: 0.3923 - val_accuracy: 0.8780\n",
            "Epoch 22/50\n",
            "1860/1860 [==============================] - 8s 4ms/step - loss: 0.2129 - accuracy: 0.9202 - val_loss: 0.3637 - val_accuracy: 0.8880\n",
            "Epoch 23/50\n",
            "1860/1860 [==============================] - 8s 4ms/step - loss: 0.2066 - accuracy: 0.9224 - val_loss: 0.3602 - val_accuracy: 0.9020\n",
            "Epoch 24/50\n",
            "1860/1860 [==============================] - 9s 5ms/step - loss: 0.2038 - accuracy: 0.9242 - val_loss: 0.3669 - val_accuracy: 0.8880\n",
            "Epoch 25/50\n",
            "1860/1860 [==============================] - 8s 4ms/step - loss: 0.2008 - accuracy: 0.9242 - val_loss: 0.3379 - val_accuracy: 0.9100\n",
            "Epoch 26/50\n",
            "1860/1860 [==============================] - 9s 5ms/step - loss: 0.1967 - accuracy: 0.9259 - val_loss: 0.3557 - val_accuracy: 0.9100\n",
            "Epoch 27/50\n",
            "1860/1860 [==============================] - 10s 5ms/step - loss: 0.1935 - accuracy: 0.9278 - val_loss: 0.3527 - val_accuracy: 0.8880\n",
            "Epoch 28/50\n",
            "1860/1860 [==============================] - 8s 4ms/step - loss: 0.1895 - accuracy: 0.9291 - val_loss: 0.3667 - val_accuracy: 0.9080\n",
            "Epoch 29/50\n",
            "1860/1860 [==============================] - 8s 4ms/step - loss: 0.1906 - accuracy: 0.9281 - val_loss: 0.3755 - val_accuracy: 0.8940\n",
            "Epoch 30/50\n",
            "1860/1860 [==============================] - 8s 4ms/step - loss: 0.1861 - accuracy: 0.9318 - val_loss: 0.3982 - val_accuracy: 0.9020\n",
            "Epoch 31/50\n",
            "1860/1860 [==============================] - 8s 4ms/step - loss: 0.1826 - accuracy: 0.9326 - val_loss: 0.4219 - val_accuracy: 0.8960\n",
            "Epoch 32/50\n",
            "1860/1860 [==============================] - 8s 4ms/step - loss: 0.1785 - accuracy: 0.9337 - val_loss: 0.4303 - val_accuracy: 0.8900\n",
            "Epoch 33/50\n",
            "1860/1860 [==============================] - 8s 4ms/step - loss: 0.1765 - accuracy: 0.9348 - val_loss: 0.3592 - val_accuracy: 0.9000\n",
            "Epoch 34/50\n",
            "1860/1860 [==============================] - 8s 4ms/step - loss: 0.1757 - accuracy: 0.9356 - val_loss: 0.3503 - val_accuracy: 0.9020\n",
            "Epoch 35/50\n",
            "1860/1860 [==============================] - 7s 4ms/step - loss: 0.1730 - accuracy: 0.9363 - val_loss: 0.4140 - val_accuracy: 0.8840\n",
            "Epoch 36/50\n",
            "1860/1860 [==============================] - 8s 4ms/step - loss: 0.1711 - accuracy: 0.9368 - val_loss: 0.4128 - val_accuracy: 0.8920\n",
            "Epoch 37/50\n",
            "1860/1860 [==============================] - 8s 4ms/step - loss: 0.1694 - accuracy: 0.9383 - val_loss: 0.4100 - val_accuracy: 0.8920\n",
            "Epoch 38/50\n",
            "1860/1860 [==============================] - 8s 4ms/step - loss: 0.1651 - accuracy: 0.9393 - val_loss: 0.3982 - val_accuracy: 0.8960\n",
            "Epoch 39/50\n",
            "1860/1860 [==============================] - 8s 4ms/step - loss: 0.1611 - accuracy: 0.9417 - val_loss: 0.5200 - val_accuracy: 0.8740\n",
            "Epoch 40/50\n",
            "1860/1860 [==============================] - 8s 4ms/step - loss: 0.1601 - accuracy: 0.9404 - val_loss: 0.4043 - val_accuracy: 0.8780\n",
            "Epoch 41/50\n",
            "1860/1860 [==============================] - 11s 6ms/step - loss: 0.1576 - accuracy: 0.9413 - val_loss: 0.4300 - val_accuracy: 0.8840\n",
            "Epoch 42/50\n",
            "1860/1860 [==============================] - 8s 4ms/step - loss: 0.1598 - accuracy: 0.9416 - val_loss: 0.4609 - val_accuracy: 0.8900\n",
            "Epoch 43/50\n",
            "1860/1860 [==============================] - 9s 5ms/step - loss: 0.1530 - accuracy: 0.9443 - val_loss: 0.4352 - val_accuracy: 0.8900\n",
            "Epoch 44/50\n",
            "1860/1860 [==============================] - 8s 4ms/step - loss: 0.1547 - accuracy: 0.9432 - val_loss: 0.4478 - val_accuracy: 0.8840\n",
            "Epoch 45/50\n",
            "1860/1860 [==============================] - 7s 4ms/step - loss: 0.1525 - accuracy: 0.9442 - val_loss: 0.3821 - val_accuracy: 0.9020\n",
            "Epoch 46/50\n",
            "1860/1860 [==============================] - 9s 5ms/step - loss: 0.1545 - accuracy: 0.9442 - val_loss: 0.4914 - val_accuracy: 0.8700\n",
            "Epoch 47/50\n",
            "1860/1860 [==============================] - 8s 4ms/step - loss: 0.1512 - accuracy: 0.9449 - val_loss: 0.5096 - val_accuracy: 0.8820\n",
            "Epoch 48/50\n",
            "1860/1860 [==============================] - 8s 5ms/step - loss: 0.1466 - accuracy: 0.9468 - val_loss: 0.4856 - val_accuracy: 0.8940\n",
            "Epoch 49/50\n",
            "1860/1860 [==============================] - 9s 5ms/step - loss: 0.1412 - accuracy: 0.9487 - val_loss: 0.5030 - val_accuracy: 0.8940\n",
            "Epoch 50/50\n",
            "1860/1860 [==============================] - 9s 5ms/step - loss: 0.1497 - accuracy: 0.9451 - val_loss: 0.4774 - val_accuracy: 0.8940\n"
          ]
        }
      ]
    },
    {
      "cell_type": "code",
      "source": [
        "# Evaluate the model\n",
        "test_loss, test_acc = model.evaluate(test_images, test_labels, verbose=2)\n",
        "print('\\nTest accuracy:', test_acc)"
      ],
      "metadata": {
        "colab": {
          "base_uri": "https://localhost:8080/"
        },
        "id": "S21ZqQiYHbHa",
        "outputId": "63dbe9c5-49ab-45c5-e874-e19a85363d03"
      },
      "execution_count": 30,
      "outputs": [
        {
          "output_type": "stream",
          "name": "stdout",
          "text": [
            "313/313 - 0s - loss: 0.5029 - accuracy: 0.8870 - 439ms/epoch - 1ms/step\n",
            "\n",
            "Test accuracy: 0.8870000243186951\n"
          ]
        }
      ]
    },
    {
      "cell_type": "code",
      "source": [
        "# Plot the learning curves\n",
        "plt.figure(figsize=(12, 4))\n",
        "\n",
        "# Plot training & validation accuracy\n",
        "plt.subplot(1, 2, 1)\n",
        "plt.plot(history.history['accuracy'], label='Training Accuracy')\n",
        "plt.plot(history.history['val_accuracy'], label='Validation Accuracy')\n",
        "plt.title('Training and Validation Accuracy')\n",
        "plt.xlabel('Epoch')\n",
        "plt.ylabel('Accuracy')\n",
        "plt.legend()\n",
        "\n",
        "# Plot training & validation loss\n",
        "plt.subplot(1, 2, 2)\n",
        "plt.plot(history.history['loss'], label='Training Loss')\n",
        "plt.plot(history.history['val_loss'], label='Validation Loss')\n",
        "plt.title('Training and Validation Loss')\n",
        "plt.xlabel('Epoch')\n",
        "plt.ylabel('Loss')\n",
        "plt.legend()\n",
        "\n",
        "plt.show()"
      ],
      "metadata": {
        "colab": {
          "base_uri": "https://localhost:8080/",
          "height": 335
        },
        "id": "sKg-8YQ2Hekw",
        "outputId": "c9b1151f-14ca-4874-9534-5981c5a2c1b8"
      },
      "execution_count": 31,
      "outputs": [
        {
          "output_type": "display_data",
          "data": {
            "text/plain": [
              "<Figure size 1200x400 with 2 Axes>"
            ],
            "image/png": "[encoded data removed]"
          },
          "metadata": {}
        }
      ]
    },
    {
      "cell_type": "code",
      "source": [
        "model.save('main_model.h5')\n",
        "!cp 'main_model.h5' drive/MyDrive/Uni/Pattern/"
      ],
      "metadata": {
        "colab": {
          "base_uri": "https://localhost:8080/"
        },
        "id": "VohwyGfaICU3",
        "outputId": "5e3bf3e4-fd47-4fa1-f5c1-506972c112ee"
      },
      "execution_count": 32,
      "outputs": [
        {
          "output_type": "stream",
          "name": "stderr",
          "text": [
            "/usr/local/lib/python3.10/dist-packages/keras/src/engine/training.py:3103: UserWarning: You are saving your model as an HDF5 file via `model.save()`. This file format is considered legacy. We recommend using instead the native Keras format, e.g. `model.save('my_model.keras')`.\n",
            "  saving_api.save_model(\n"
          ]
        }
      ]
    },
    {
      "cell_type": "code",
      "source": [
        "!cp drive/MyDrive/Uni/Pattern/main_model.h5 .\n",
        "loaded_model = load_model('main_model.h5')"
      ],
      "metadata": {
        "id": "B7LH4BpzLHUG"
      },
      "execution_count": 33,
      "outputs": []
    },
    {
      "cell_type": "code",
      "source": [
        "# Create an intermediate model\n",
        "model_layer = []\n",
        "for i in range(2):\n",
        "  model_layer.append(tf.keras.Model(inputs=model.input, outputs=model.layers[i+1].output))\n",
        "\n",
        "model_layer[1].summary()\n",
        "\n",
        "cmp_rate = 0.2\n",
        "\n",
        "cmp_layer_size = [int(cmp_rate * 512), int(cmp_rate * 256)]\n",
        "\n",
        "compressed_model = Sequential([\n",
        "    Flatten(input_shape=(28, 28)),\n",
        "    Dense(cmp_layer_size[0], activation='LeakyReLU'),\n",
        "    Dense(cmp_layer_size[1], activation='LeakyReLU'),\n",
        "    Dense(10, activation='softmax')\n",
        "])\n",
        "compressed_model.summary()"
      ],
      "metadata": {
        "colab": {
          "base_uri": "https://localhost:8080/"
        },
        "id": "FYQG4G8qhl5R",
        "outputId": "d382b511-1ce1-46d6-b3a3-21ef7cfdd509"
      },
      "execution_count": 123,
      "outputs": [
        {
          "output_type": "stream",
          "name": "stderr",
          "text": [
            "WARNING:tensorflow:Functional model inputs must come from `tf.keras.Input` (thus holding past layer metadata). They cannot be the output of a previous non-Input layer. Here, a tensor specified as input to \"model_33\" was not an Input tensor, it was generated by layer \"flatten_3_input\".\n",
            "Note that input tensors are instantiated via `tensor = tf.keras.Input(shape)`.\n",
            "The tensor that caused the issue was: KerasTensor(type_spec=TensorSpec(shape=(None, 28, 28), dtype=tf.float32, name='flatten_3_input'), name='flatten_3_input', description=\"created by layer 'flatten_3_input'\")\n",
            "WARNING:tensorflow:Functional model inputs must come from `tf.keras.Input` (thus holding past layer metadata). They cannot be the output of a previous non-Input layer. Here, a tensor specified as input to \"model_34\" was not an Input tensor, it was generated by layer \"flatten_3_input\".\n",
            "Note that input tensors are instantiated via `tensor = tf.keras.Input(shape)`.\n",
            "The tensor that caused the issue was: KerasTensor(type_spec=TensorSpec(shape=(None, 28, 28), dtype=tf.float32, name='flatten_3_input'), name='flatten_3_input', description=\"created by layer 'flatten_3_input'\")\n"
          ]
        },
        {
          "output_type": "stream",
          "name": "stdout",
          "text": [
            "Model: \"model_34\"\n",
            "_________________________________________________________________\n",
            " Layer (type)                Output Shape              Param #   \n",
            "=================================================================\n",
            " flatten_3_input (InputLaye  multiple                  0         \n",
            " r)                                                              \n",
            "                                                                 \n",
            " flatten_3 (Flatten)         (None, 784)               0         \n",
            "                                                                 \n",
            " dense_9 (Dense)             (None, 512)               401920    \n",
            "                                                                 \n",
            " dense_10 (Dense)            multiple                  131328    \n",
            "                                                                 \n",
            "=================================================================\n",
            "Total params: 533248 (2.03 MB)\n",
            "Trainable params: 533248 (2.03 MB)\n",
            "Non-trainable params: 0 (0.00 Byte)\n",
            "_________________________________________________________________\n",
            "Model: \"sequential_14\"\n",
            "_________________________________________________________________\n",
            " Layer (type)                Output Shape              Param #   \n",
            "=================================================================\n",
            " flatten_14 (Flatten)        (None, 784)               0         \n",
            "                                                                 \n",
            " dense_52 (Dense)            (None, 102)               80070     \n",
            "                                                                 \n",
            " dense_53 (Dense)            (None, 51)                5253      \n",
            "                                                                 \n",
            " dense_54 (Dense)            (None, 10)                520       \n",
            "                                                                 \n",
            "=================================================================\n",
            "Total params: 85843 (335.32 KB)\n",
            "Trainable params: 85843 (335.32 KB)\n",
            "Non-trainable params: 0 (0.00 Byte)\n",
            "_________________________________________________________________\n"
          ]
        }
      ]
    },
    {
      "cell_type": "code",
      "source": [
        "# Get neuron outputs\n",
        "neuron_outputs = []\n",
        "kmeans = []\n",
        "for i in range(2):\n",
        "  neuron_outputs.append(model_layer[i].predict(val_images))\n",
        "  print(neuron_outputs[i].shape)\n",
        "  # Apply clustering to neuron outputs\n",
        "  kmeans.append(KMeans(n_clusters=cmp_layer_size[i], random_state=0).fit(neuron_outputs[i].T))"
      ],
      "metadata": {
        "colab": {
          "base_uri": "https://localhost:8080/"
        },
        "id": "yphHndI7iwim",
        "outputId": "bec31c73-0517-4191-eba7-8647c551f151"
      },
      "execution_count": 124,
      "outputs": [
        {
          "output_type": "stream",
          "name": "stdout",
          "text": [
            "16/16 [==============================] - 0s 2ms/step\n",
            "(500, 512)\n"
          ]
        },
        {
          "output_type": "stream",
          "name": "stderr",
          "text": [
            "/usr/local/lib/python3.10/dist-packages/sklearn/cluster/_kmeans.py:870: FutureWarning: The default value of `n_init` will change from 10 to 'auto' in 1.4. Set the value of `n_init` explicitly to suppress the warning\n",
            "  warnings.warn(\n"
          ]
        },
        {
          "output_type": "stream",
          "name": "stdout",
          "text": [
            "16/16 [==============================] - 0s 4ms/step\n",
            "(500, 256)\n"
          ]
        },
        {
          "output_type": "stream",
          "name": "stderr",
          "text": [
            "/usr/local/lib/python3.10/dist-packages/sklearn/cluster/_kmeans.py:870: FutureWarning: The default value of `n_init` will change from 10 to 'auto' in 1.4. Set the value of `n_init` explicitly to suppress the warning\n",
            "  warnings.warn(\n"
          ]
        }
      ]
    },
    {
      "cell_type": "code",
      "source": [
        "w, b = model_layer[1].layers[3].get_weights()\n",
        "print(\"target:\", w.shape, b.shape)"
      ],
      "metadata": {
        "colab": {
          "base_uri": "https://localhost:8080/"
        },
        "id": "K_w9LGfrlri9",
        "outputId": "6addcd6b-76dc-49a6-b1a4-250c854ff0de"
      },
      "execution_count": 125,
      "outputs": [
        {
          "output_type": "stream",
          "name": "stdout",
          "text": [
            "target: (512, 256) (256,)\n"
          ]
        }
      ]
    },
    {
      "cell_type": "code",
      "source": [
        "neurons_to_keep = []\n",
        "for i in range(2):\n",
        "  clusters = kmeans[i].labels_\n",
        "  unique_neurons = np.unique(clusters)\n",
        "  neurons_to_keep.append({cluster: np.where(clusters == cluster)[0][0] for cluster in unique_neurons})\n",
        "\n",
        "  # Get the weights from the original layer\n",
        "  original_weights, original_biases = model.layers[i+1].get_weights()\n",
        "  print(\"original:\", original_weights.shape)\n",
        "\n",
        "  # Filter the weights and biases for the neurons to keep\n",
        "  new_weights = original_weights[:, list(neurons_to_keep[i].values())]\n",
        "  if i != 0:\n",
        "    new_weights = new_weights[list(neurons_to_keep[i-1].values()), :]\n",
        "  new_biases = original_biases[list(neurons_to_keep[i].values())]\n",
        "  print(\"new:\", new_weights.shape)\n",
        "\n",
        "  w, b = compressed_model.layers[i+1].get_weights()\n",
        "  print(\"target:\", w.shape, b.shape)\n",
        "\n",
        "  compressed_model.layers[i+1].set_weights([new_weights, new_biases])\n",
        "\n",
        "\n",
        "\n",
        "# Get the weights from the original layer\n",
        "original_weights, original_biases = model.layers[3].get_weights()\n",
        "print(\"original:\", original_weights.shape)\n",
        "\n",
        "new_weights = original_weights[list(neurons_to_keep[1].values()), :]\n",
        "print(\"new:\", new_weights.shape)\n",
        "\n",
        "w, b = compressed_model.layers[3].get_weights()\n",
        "print(\"target:\", w.shape, b.shape)\n",
        "\n",
        "compressed_model.layers[3].set_weights([new_weights, original_biases])\n",
        "\n",
        "\n",
        "\n",
        "compressed_model.compile(optimizer='adam',\n",
        "              loss='sparse_categorical_crossentropy',\n",
        "              metrics=['accuracy'])"
      ],
      "metadata": {
        "colab": {
          "base_uri": "https://localhost:8080/"
        },
        "id": "EG3rwSbhOk3y",
        "outputId": "6df1009d-0dce-4a48-d7de-99419f6048d5"
      },
      "execution_count": 126,
      "outputs": [
        {
          "output_type": "stream",
          "name": "stdout",
          "text": [
            "original: (784, 512)\n",
            "new: (784, 102)\n",
            "target: (784, 102) (102,)\n",
            "original: (512, 256)\n",
            "new: (102, 51)\n",
            "target: (102, 51) (51,)\n",
            "original: (256, 10)\n",
            "new: (51, 10)\n",
            "target: (51, 10) (10,)\n"
          ]
        }
      ]
    },
    {
      "cell_type": "code",
      "source": [
        "# Evaluate the model\n",
        "\n",
        "test_loss, test_acc = compressed_model.evaluate(test_images, test_labels, verbose=2)\n",
        "print('\\nTest accuracy:', test_acc)"
      ],
      "metadata": {
        "colab": {
          "base_uri": "https://localhost:8080/"
        },
        "id": "8hGCogmUi9qP",
        "outputId": "93bfb75e-c933-4666-d5a4-dbb31c73a5ff"
      },
      "execution_count": 127,
      "outputs": [
        {
          "output_type": "stream",
          "name": "stdout",
          "text": [
            "313/313 - 0s - loss: 0.5896 - accuracy: 0.8037 - 442ms/epoch - 1ms/step\n",
            "\n",
            "Test accuracy: 0.8036999702453613\n"
          ]
        }
      ]
    },
    {
      "cell_type": "code",
      "source": [
        "cmp_rates = [0.99, 0.9, 0.8, 0.7, 0.6, 0.5, 0.4, 0.3, 0.2, 0.15, 0.1, 0.05, 0.01]\n",
        "acc_list = []\n",
        "auc_x = []\n",
        "auc_y = []\n",
        "\n",
        "for cmp_rate in cmp_rates:\n",
        "  cmp_layer_size = [int(cmp_rate * 512), int(cmp_rate * 256)]\n",
        "\n",
        "  compressed_model = Sequential([\n",
        "      Flatten(input_shape=(28, 28)),\n",
        "      Dense(cmp_layer_size[0], activation='LeakyReLU'),\n",
        "      Dense(cmp_layer_size[1], activation='LeakyReLU'),\n",
        "      Dense(10, activation='softmax')\n",
        "  ])\n",
        "\n",
        "  neuron_outputs = []\n",
        "  kmeans = []\n",
        "  for i in range(2):\n",
        "    neuron_outputs.append(model_layer[i].predict(val_images))\n",
        "    kmeans.append(KMeans(n_clusters=cmp_layer_size[i], n_init=10, random_state=0, verbose=0).fit(neuron_outputs[i].T))\n",
        "\n",
        "  neurons_to_keep = []\n",
        "  for i in range(2):\n",
        "    clusters = kmeans[i].labels_\n",
        "    unique_neurons = np.unique(clusters)\n",
        "    neurons_to_keep.append({cluster: np.where(clusters == cluster)[0][0] for cluster in unique_neurons})\n",
        "\n",
        "    original_weights, original_biases = model.layers[i+1].get_weights()\n",
        "\n",
        "    new_weights = original_weights[:, list(neurons_to_keep[i].values())]\n",
        "    if i != 0:\n",
        "      new_weights = new_weights[list(neurons_to_keep[i-1].values()), :]\n",
        "    new_biases = original_biases[list(neurons_to_keep[i].values())]\n",
        "\n",
        "    compressed_model.layers[i+1].set_weights([new_weights, new_biases])\n",
        "\n",
        "\n",
        "  original_weights, original_biases = model.layers[3].get_weights()\n",
        "  new_weights = original_weights[list(neurons_to_keep[1].values()), :]\n",
        "  compressed_model.layers[3].set_weights([new_weights, original_biases])\n",
        "\n",
        "  compressed_model.compile(optimizer='adam',\n",
        "                loss='sparse_categorical_crossentropy',\n",
        "                metrics=['accuracy'])\n",
        "  test_loss, test_acc = compressed_model.evaluate(test_images, test_labels, verbose=0)\n",
        "  acc_list.append(test_acc)\n",
        "  auc_x.append(1-cmp_rate)\n",
        "  auc_y.append(test_acc)\n",
        "  removed_neurons = [512 - cmp_layer_size[0], 256 - cmp_layer_size[1]]\n",
        "  print(f\"\\nCompression Rate: {cmp_rate}\\nTest Accuracy: {test_acc}\\nRemoved Neurons: {removed_neurons}\\n\")"
      ],
      "metadata": {
        "colab": {
          "base_uri": "https://localhost:8080/"
        },
        "id": "z2dRpM549C5y",
        "outputId": "6af6c81c-4505-4cfc-94d6-e25c5f44f367"
      },
      "execution_count": 147,
      "outputs": [
        {
          "output_type": "stream",
          "name": "stdout",
          "text": [
            "16/16 [==============================] - 0s 2ms/step\n",
            "16/16 [==============================] - 0s 2ms/step\n",
            "\n",
            "Compression Rate: 0.99\n",
            "Test Accuracy: 0.8870999813079834\n",
            "Removed Neurons: [6, 3]\n",
            "\n",
            "16/16 [==============================] - 0s 5ms/step\n",
            "16/16 [==============================] - 0s 2ms/step\n",
            "\n",
            "Compression Rate: 0.9\n",
            "Test Accuracy: 0.8870999813079834\n",
            "Removed Neurons: [52, 26]\n",
            "\n",
            "16/16 [==============================] - 0s 2ms/step\n",
            "16/16 [==============================] - 0s 2ms/step\n",
            "\n",
            "Compression Rate: 0.8\n",
            "Test Accuracy: 0.8881999850273132\n",
            "Removed Neurons: [103, 52]\n",
            "\n",
            "16/16 [==============================] - 0s 2ms/step\n",
            "16/16 [==============================] - 0s 3ms/step\n",
            "\n",
            "Compression Rate: 0.7\n",
            "Test Accuracy: 0.8873000144958496\n",
            "Removed Neurons: [154, 77]\n",
            "\n",
            "16/16 [==============================] - 0s 7ms/step\n",
            "16/16 [==============================] - 0s 2ms/step\n",
            "\n",
            "Compression Rate: 0.6\n",
            "Test Accuracy: 0.8870000243186951\n",
            "Removed Neurons: [205, 103]\n",
            "\n",
            "16/16 [==============================] - 0s 1ms/step\n",
            "16/16 [==============================] - 0s 3ms/step\n",
            "\n",
            "Compression Rate: 0.5\n",
            "Test Accuracy: 0.8823000192642212\n",
            "Removed Neurons: [256, 128]\n",
            "\n",
            "16/16 [==============================] - 0s 2ms/step\n",
            "16/16 [==============================] - 0s 2ms/step\n",
            "\n",
            "Compression Rate: 0.4\n",
            "Test Accuracy: 0.8772000074386597\n",
            "Removed Neurons: [308, 154]\n",
            "\n",
            "16/16 [==============================] - 0s 1ms/step\n",
            "16/16 [==============================] - 0s 2ms/step\n",
            "\n",
            "Compression Rate: 0.3\n",
            "Test Accuracy: 0.861299991607666\n",
            "Removed Neurons: [359, 180]\n",
            "\n",
            "16/16 [==============================] - 0s 2ms/step\n",
            "16/16 [==============================] - 0s 2ms/step\n",
            "\n",
            "Compression Rate: 0.2\n",
            "Test Accuracy: 0.8036999702453613\n",
            "Removed Neurons: [410, 205]\n",
            "\n",
            "16/16 [==============================] - 0s 2ms/step\n",
            "16/16 [==============================] - 0s 2ms/step\n",
            "\n",
            "Compression Rate: 0.15\n",
            "Test Accuracy: 0.710099995136261\n",
            "Removed Neurons: [436, 218]\n",
            "\n",
            "16/16 [==============================] - 0s 2ms/step\n",
            "16/16 [==============================] - 0s 2ms/step\n",
            "\n",
            "Compression Rate: 0.1\n",
            "Test Accuracy: 0.5656999945640564\n",
            "Removed Neurons: [461, 231]\n",
            "\n",
            "16/16 [==============================] - 0s 1ms/step\n",
            "16/16 [==============================] - 0s 3ms/step\n",
            "\n",
            "Compression Rate: 0.05\n",
            "Test Accuracy: 0.37209999561309814\n",
            "Removed Neurons: [487, 244]\n",
            "\n",
            "16/16 [==============================] - 0s 1ms/step\n",
            "16/16 [==============================] - 0s 2ms/step\n",
            "\n",
            "Compression Rate: 0.01\n",
            "Test Accuracy: 0.19290000200271606\n",
            "Removed Neurons: [507, 254]\n",
            "\n"
          ]
        }
      ]
    },
    {
      "cell_type": "code",
      "source": [
        "# Plot Accuracy vs. Compression Rate\n",
        "plt.plot(auc_x, auc_y, marker='o')\n",
        "plt.xlabel('Compression Rate')\n",
        "plt.ylabel('Test Accuracy')\n",
        "plt.title('Test Accuracy vs. Compression Rate')\n",
        "plt.show()\n",
        "\n",
        "# Calculate and print the area under the curve\n",
        "area_under_curve = auc(auc_x, auc_y)\n",
        "print(f\"Area Under Curve: {area_under_curve}\")"
      ],
      "metadata": {
        "colab": {
          "base_uri": "https://localhost:8080/",
          "height": 489
        },
        "id": "cjI9ey1MO7_9",
        "outputId": "11f67dbd-e226-444a-f4b2-38f416a24c0b"
      },
      "execution_count": 148,
      "outputs": [
        {
          "output_type": "display_data",
          "data": {
            "text/plain": [
              "<Figure size 640x480 with 1 Axes>"
            ],
            "image/png": "[encoded data removed]"
          },
          "metadata": {}
        },
        {
          "output_type": "stream",
          "name": "stdout",
          "text": [
            "Area Under Curve: 0.7971939986944199\n"
          ]
        }
      ]
    },
    {
      "cell_type": "code",
      "source": [],
      "metadata": {
        "id": "AkFF04cNSAnP"
      },
      "execution_count": null,
      "outputs": []
    }
  ]
}